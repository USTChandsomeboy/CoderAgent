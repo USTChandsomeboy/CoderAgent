{
 "cells": [
  {
   "cell_type": "code",
   "execution_count": null,
   "metadata": {},
   "outputs": [],
   "source": [
    "import json\n",
    "import os\n",
    "import re\n",
    "import subprocess\n",
    "import pandas as pd\n",
    "import numpy as np\n",
    "from modules.adaptive_learner_modeling import *\n",
    "from modules.learner_simulation import *\n",
    "from modules.question_analysis import *\n",
    "from base.llms import create_llm\n",
    "\n",
    "gpt4o_llm = create_llm(backbone=\"gpt4o\", deployment='gpt-4o-mini')"
   ]
  },
  {
   "cell_type": "code",
   "execution_count": 2,
   "metadata": {},
   "outputs": [],
   "source": [
    "def code_merge(codes):\n",
    "    merged_code = ''\n",
    "    for i,code in enumerate(codes):\n",
    "        merged_code += f\"The {i+1}-th submission code: {code}   \\n\"\n",
    "    return merged_code"
   ]
  },
  {
   "cell_type": "code",
   "execution_count": 2,
   "metadata": {},
   "outputs": [],
   "source": [
    "metadata_folder = 'dataset/CSEDM/SingleRecords/1/'\n",
    "problems = pd.read_csv('dataset/CSEDM/problem.csv')"
   ]
  },
  {
   "cell_type": "code",
   "execution_count": null,
   "metadata": {},
   "outputs": [],
   "source": [
    "def analyze_requirement(requirement):\n",
    "    return analysis_question_with_llm(gpt4o_llm, requirement)\n",
    "problems['RequirementSkill'] = problems['Requirement'].apply(analyze_requirement)\n",
    "\n",
    "# 保存回CSV文件\n",
    "problems.to_csv('problem_with_skills.csv', index=False)"
   ]
  },
  {
   "cell_type": "code",
   "execution_count": 4,
   "metadata": {},
   "outputs": [],
   "source": [
    "def compile_code(code, language):\n",
    "    if language == 'python':\n",
    "        return code\n",
    "    elif language == 'java':\n",
    "        start = \"public class Solution {\\n\"\n",
    "        end = \"\\n}\"\n",
    "        code = start + code + end\n",
    "        with open(f'Solution.java', 'w') as f:\n",
    "                f.write(code + '\\n')\n",
    "        com_response = subprocess.run([\"javac\", \"Solution.java\"], capture_output=True, text=True)\n",
    "        if com_response.returncode != 0:\n",
    "            return com_response.stderr  \n",
    "        else:\n",
    "            return 'There is no compilation error'\n",
    "    elif language == 'cpp':\n",
    "        code = code.replace('int main', 'int main')\n",
    "        return code\n"
   ]
  },
  {
   "cell_type": "code",
   "execution_count": null,
   "metadata": {},
   "outputs": [],
   "source": [
    "exercise_records = []\n",
    "profile = ''\n",
    "for i, filename in enumerate(os.listdir(metadata_folder)):\n",
    "    match = re.search(r'(\\d+)', filename)\n",
    "    print(filename)\n",
    "    result = '1'\n",
    "    if match:\n",
    "        result = match.group(1)\n",
    "    problem_id = int(result)\n",
    "    filepath = os.path.join(metadata_folder, filename)\n",
    "    code_records = pd.read_csv(filepath)\n",
    "    problem = problems[problems['ProblemID'] == problem_id]['Requirement'].values[0]\n",
    "    merged_code = code_merge(code_records['Code'])\n",
    "    last_record = f\"problem stem: {problem}   \\n code records: {merged_code}\"\n",
    "    if i<10:\n",
    "        if exercise_records == []: \n",
    "            profile = initialize_learner_profile_with_llm(gpt4o_llm, merged_code)\n",
    "            print(profile['learner_information'])\n",
    "        else:\n",
    "            profile = update_learner_profile_with_llm(gpt4o_llm, profile, merged_code)\n",
    "    else:\n",
    "        all_records = []\n",
    "        code_record_current = code_records['Code'][0]\n",
    "        all_records.append(f\"1-th submission code: {code_records['Code'][0]}\")\n",
    "        err_info = compile_code(code_records['Code'][0], 'java')\n",
    "        # code = generate_first_code_with_llm(gpt4o_llm, profile, problem, exercise_records)\n",
    "        # code_records_current.append(code)\n",
    "        for j in range(4):\n",
    "            code = update_code_with_llm(gpt4o_llm, profile, problem, exercise_records, code_record_current, err_info)\n",
    "            print(code)\n",
    "            code_record_current = code_record_current.replace(code['code0'], code['code1'])\n",
    "            err_info = compile_code(code_record_current, 'java')\n",
    "            print(f\"err_info: {err_info}\")\n",
    "            all_records.append(f\"{j+2}-th submission code: {code_record_current}\")\n",
    "        with open(f'results/experiments/output_code_{problem_id}.txt', 'w') as f:\n",
    "            for record in all_records:\n",
    "                f.write(record + '\\n')\n",
    "    if len(exercise_records) < 1:\n",
    "        exercise_records.append(last_record)\n",
    "    else:\n",
    "        exercise_records.pop(0)\n",
    "        exercise_records.append(last_record)        \n",
    "            "
   ]
  },
  {
   "cell_type": "code",
   "execution_count": 6,
   "metadata": {},
   "outputs": [],
   "source": [
    "# merged_code = code_merge(data['Code'])"
   ]
  },
  {
   "cell_type": "code",
   "execution_count": null,
   "metadata": {},
   "outputs": [],
   "source": [
    "code"
   ]
  },
  {
   "cell_type": "code",
   "execution_count": null,
   "metadata": {},
   "outputs": [],
   "source": [
    "import subprocess\n",
    "com_response = subprocess.run([\"javac\", \"Solution.java\"])\n",
    "print(com_response.stdout)\n",
    "print(com_response.stderr)\n",
    "response = subprocess.run([\"java\", \"Solution\"],capture_output=True, text=True)\n",
    "print(response.stdout)\n",
    "print(response.stderr)"
   ]
  },
  {
   "cell_type": "code",
   "execution_count": 9,
   "metadata": {},
   "outputs": [],
   "source": [
    "import subprocess"
   ]
  },
  {
   "cell_type": "code",
   "execution_count": 2,
   "metadata": {},
   "outputs": [
    {
     "name": "stdout",
     "output_type": "stream",
     "text": [
      "<class 'pandas.core.frame.DataFrame'>\n",
      "RangeIndex: 6 entries, 0 to 5\n",
      "Data columns (total 2 columns):\n",
      " #   Column   Non-Null Count  Dtype \n",
      "---  ------   --------------  ----- \n",
      " 0   user_id  6 non-null      int64 \n",
      " 1   profile  6 non-null      object\n",
      "dtypes: int64(1), object(1)\n",
      "memory usage: 224.0+ bytes\n"
     ]
    }
   ],
   "source": [
    "import pandas as pd\n",
    "profile = pd.read_csv('dataset/CSEDM/profile.csv')\n",
    "profile.info()"
   ]
  }
 ],
 "metadata": {
  "kernelspec": {
   "display_name": "llm",
   "language": "python",
   "name": "python3"
  },
  "language_info": {
   "codemirror_mode": {
    "name": "ipython",
    "version": 3
   },
   "file_extension": ".py",
   "mimetype": "text/x-python",
   "name": "python",
   "nbconvert_exporter": "python",
   "pygments_lexer": "ipython3",
   "version": "3.10.14"
  }
 },
 "nbformat": 4,
 "nbformat_minor": 2
}
